{
 "cells": [
  {
   "cell_type": "markdown",
   "metadata": {},
   "source": [
    "# COMP5318 ASSIGNMENT 2 "
   ]
  },
  {
   "cell_type": "markdown",
   "metadata": {},
   "source": [
    "**GROUP 144:**\n",
    "- Aryan Bhatia : 490352056\n",
    "- Mudit Malhotra : 490583269\n",
    "\n",
    "**REFERENCES:**\n",
    "- https://www.analyticsvidhya.com/blog/2021/06/twitter-sentiment-analysis-a-nlp-use-case-for-beginners/\n",
    "- https://towardsdatascience.com/cleaning-preprocessing-text-data-for-sentiment-analysis-382a41f150d6"
   ]
  },
  {
   "cell_type": "markdown",
   "metadata": {},
   "source": [
    "## DATA ORGANIZATION AND CLEANING"
   ]
  },
  {
   "cell_type": "markdown",
   "metadata": {},
   "source": [
    "### IMPORTING DATA"
   ]
  },
  {
   "cell_type": "code",
   "execution_count": 110,
   "metadata": {},
   "outputs": [
    {
     "data": {
      "text/plain": [
       "Index(['target', 'ids', 'date', 'flag', 'user', 'text'], dtype='object')"
      ]
     },
     "execution_count": 110,
     "metadata": {},
     "output_type": "execute_result"
    }
   ],
   "source": [
    "import pandas as pd \n",
    "import re\n",
    "\n",
    "DATASET_COLUMNS=['target','ids','date','flag','user','text']\n",
    "DATASET_ENCODING = \"ISO-8859-1\"\n",
    "dataset = pd.read_csv('tweets.csv', encoding=DATASET_ENCODING, names=DATASET_COLUMNS)\n",
    "\n",
    "dataset.keys()"
   ]
  },
  {
   "cell_type": "markdown",
   "metadata": {},
   "source": [
    "### CLEANING DATA\n",
    "\n",
    "**STEPS FOLLOWED FOR DATA CLEANING:**\n",
    "- convert 4s to 1s (target) \n",
    "- drop duplicates\n",
    "- lower case\n",
    "- remove atsign\n",
    "- remove urls \n",
    "- remove punctuation\n",
    "- remove numbers \n",
    "- remove emojis\n",
    "- remove stopwords\n",
    "- lemmatization using spacy"
   ]
  },
  {
   "cell_type": "code",
   "execution_count": 111,
   "metadata": {},
   "outputs": [],
   "source": [
    "# Converting 4s to 1s\n",
    "data = dataset[['text','target']]\n",
    "data['target'] = data['target'].replace(4,1)"
   ]
  },
  {
   "cell_type": "code",
   "execution_count": 112,
   "metadata": {},
   "outputs": [],
   "source": [
    "# drop duplicates \n",
    "data = data.drop_duplicates(subset='text')"
   ]
  },
  {
   "cell_type": "code",
   "execution_count": 113,
   "metadata": {},
   "outputs": [],
   "source": [
    "# lower case \n",
    "def lower_case(text):\n",
    "    return text.lower()\n",
    "data['text'] = data['text'].apply(lambda text: lower_case(text))"
   ]
  },
  {
   "cell_type": "code",
   "execution_count": 114,
   "metadata": {},
   "outputs": [],
   "source": [
    "# remove urls\n",
    "def remove_url(text):\n",
    "    return re.sub('((www.[^s]+)|(https?://[^s]+))', ' ', text)\n",
    "data['text'] = data['text'].apply(lambda text: remove_url(text))"
   ]
  },
  {
   "cell_type": "code",
   "execution_count": 115,
   "metadata": {},
   "outputs": [],
   "source": [
    "# remove punctuations \n",
    "import string \n",
    "\n",
    "def remove_punctuations(text):\n",
    "    return text.translate(str.maketrans('', '', string.punctuation))\n",
    "\n",
    "data['text'] = data['text'].apply(lambda text: remove_punctuations(text))"
   ]
  },
  {
   "cell_type": "markdown",
   "metadata": {},
   "source": [
    "### FEATURE EXTRACTION\n",
    "After data has been cleaned we perform feature extraction using the TF-IDF algorithm (term frequency-inverse document frequency)"
   ]
  },
  {
   "cell_type": "code",
   "execution_count": null,
   "metadata": {},
   "outputs": [],
   "source": []
  },
  {
   "cell_type": "markdown",
   "metadata": {},
   "source": [
    "### STORE DATASET"
   ]
  },
  {
   "cell_type": "code",
   "execution_count": 116,
   "metadata": {},
   "outputs": [
    {
     "name": "stdout",
     "output_type": "stream",
     "text": [
      "Stored 'dataset' (DataFrame)\n"
     ]
    }
   ],
   "source": [
    "%store dataset"
   ]
  }
 ],
 "metadata": {
  "interpreter": {
   "hash": "925b4fc7bf60ec077d6844c75ccfbe79f4cc1048c4f3704f918b5a13e584ff1f"
  },
  "kernelspec": {
   "display_name": "Python 3.7.12 ('graphviz')",
   "language": "python",
   "name": "python3"
  },
  "language_info": {
   "codemirror_mode": {
    "name": "ipython",
    "version": 3
   },
   "file_extension": ".py",
   "mimetype": "text/x-python",
   "name": "python",
   "nbconvert_exporter": "python",
   "pygments_lexer": "ipython3",
   "version": "3.7.12"
  },
  "orig_nbformat": 4
 },
 "nbformat": 4,
 "nbformat_minor": 2
}
