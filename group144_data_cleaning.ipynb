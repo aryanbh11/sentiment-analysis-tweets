{
 "cells": [
  {
   "cell_type": "markdown",
   "metadata": {},
   "source": [
    "# COMP5318 ASSIGNMENT 2 "
   ]
  },
  {
   "cell_type": "markdown",
   "metadata": {},
   "source": [
    "**GROUP 144:**\n",
    "- Aryan Bhatia : 490352056\n",
    "- Mudit Malhotra : 490583269\n",
    "\n",
    "**REFERENCES:**\n",
    "- https://www.analyticsvidhya.com/blog/2021/06/twitter-sentiment-analysis-a-nlp-use-case-for-beginners/\n",
    "- https://towardsdatascience.com/cleaning-preprocessing-text-data-for-sentiment-analysis-382a41f150d6\n",
    "- https://prrao87.github.io/blog/spacy/nlp/performance/2020/05/02/spacy-multiprocess.html#Load-spaCy-model"
   ]
  },
  {
   "cell_type": "markdown",
   "metadata": {},
   "source": [
    "## DATA ORGANIZATION AND CLEANING"
   ]
  },
  {
   "cell_type": "markdown",
   "metadata": {},
   "source": [
    "### IMPORTING DATA & LIBRARIES"
   ]
  },
  {
   "cell_type": "code",
   "execution_count": null,
   "metadata": {},
   "outputs": [],
   "source": [
    "import pandas as pd \n",
    "import re\n",
    "import string \n",
    "\n",
    "# for removing emojis\n",
    "from cleantext import clean\n",
    "\n",
    "# for removing stopwords\n",
    "import gensim\n",
    "\n",
    "# for parallelization \n",
    "from joblib import Parallel, delayed\n",
    "\n",
    "# for lemmatization\n",
    "import spacy\n",
    "from spacy.cli.download import download\n",
    "download(model=\"en_core_web_sm\")\n",
    "nlp = spacy.load('en_core_web_sm', disable=['parser', 'ner'])\n",
    "\n",
    "# for feature extraction \n",
    "from sklearn.model_selection import train_test_split\n",
    "from sklearn.feature_extraction.text import TfidfVectorizer\n",
    "\n",
    "# for plotting \n",
    "import matplotlib.pyplot as plt\n",
    "\n",
    "DATASET_COLUMNS=['target','ids','date','flag','user','text']\n",
    "DATASET_ENCODING = \"ISO-8859-1\"\n",
    "dataset = pd.read_csv('tweets.csv', encoding=DATASET_ENCODING, names=DATASET_COLUMNS)"
   ]
  },
  {
   "cell_type": "markdown",
   "metadata": {},
   "source": [
    "### CLEANING DATA\n",
    "\n",
    "**STEPS FOLLOWED FOR DATA CLEANING:**\n",
    "- convert 4s to 1s (target) \n",
    "- drop duplicates\n",
    "- lower case\n",
    "- remove atsign\n",
    "- remove urls \n",
    "- remove punctuations\n",
    "- remove numbers \n",
    "- remove emojis\n",
    "- remove stopwords\n",
    "- remove 1 letter words \n",
    "- lemmatization using spacy"
   ]
  },
  {
   "cell_type": "code",
   "execution_count": 2,
   "metadata": {},
   "outputs": [],
   "source": [
    "# converting 4s to 1s\n",
    "data = dataset[['text','target']]\n",
    "data['target'] = data['target'].replace(4,1)"
   ]
  },
  {
   "cell_type": "code",
   "execution_count": 3,
   "metadata": {},
   "outputs": [],
   "source": [
    "# drop duplicates \n",
    "data = data.drop_duplicates(subset='text')"
   ]
  },
  {
   "cell_type": "code",
   "execution_count": 4,
   "metadata": {},
   "outputs": [],
   "source": [
    "# lower case \n",
    "def lower_case(text):\n",
    "    return text.lower()\n",
    "\n",
    "data['text'] = data['text'].apply(lambda text: lower_case(text))"
   ]
  },
  {
   "cell_type": "code",
   "execution_count": 5,
   "metadata": {},
   "outputs": [],
   "source": [
    "# remove atsign\n",
    "def remove_atsign(text):\n",
    "    return \" \".join([word for word in str(text).split() if '@' not in word])\n",
    "\n",
    "data['text'] = data['text'].apply(lambda text: remove_atsign(text))"
   ]
  },
  {
   "cell_type": "code",
   "execution_count": 6,
   "metadata": {},
   "outputs": [],
   "source": [
    "# remove urls\n",
    "def remove_url(text):\n",
    "    return re.sub('((www.[^s]+)|(https?://[^s]+))', ' ', text)\n",
    "\n",
    "data['text'] = data['text'].apply(lambda text: remove_url(text))"
   ]
  },
  {
   "cell_type": "code",
   "execution_count": 7,
   "metadata": {},
   "outputs": [],
   "source": [
    "# remove punctuations \n",
    "def remove_punctuations(text):\n",
    "    return text.translate(str.maketrans('', '', string.punctuation))\n",
    "\n",
    "data['text'] = data['text'].apply(lambda text: remove_punctuations(text))"
   ]
  },
  {
   "cell_type": "code",
   "execution_count": 8,
   "metadata": {},
   "outputs": [],
   "source": [
    "# remove numbers\n",
    "def remove_numbers(text):\n",
    "    return \" \".join([word for word in str(text).split() if not any(char.isdigit() for char in word)])\n",
    "\n",
    "data['text'] = data['text'].apply(lambda text: remove_numbers(text))"
   ]
  },
  {
   "cell_type": "code",
   "execution_count": 9,
   "metadata": {},
   "outputs": [],
   "source": [
    "# remove 1 letter words \n",
    "def remove_1_letter(text):\n",
    "    text = text.split()\n",
    "    new_words = []\n",
    "    for t in text:\n",
    "        if len(t) > 1:\n",
    "            new_words.append(t)\n",
    "    return ' '.join(new_words)\n",
    "\n",
    "data['text'] = data['text'].apply(lambda text: remove_1_letter(text))"
   ]
  },
  {
   "cell_type": "code",
   "execution_count": 10,
   "metadata": {},
   "outputs": [],
   "source": [
    "# remove emojis\n",
    "def remove_emojis(text):\n",
    "    return clean(text, no_emoji=True)\n",
    "\n",
    "data['text'] = data['text'].apply(lambda text: remove_emojis(text))"
   ]
  },
  {
   "cell_type": "code",
   "execution_count": 11,
   "metadata": {},
   "outputs": [],
   "source": [
    "# remove stopwords\n",
    "STOPWORDS = set(gensim.parsing.preprocessing.STOPWORDS)\n",
    "\n",
    "def remove_stopwords(text):\n",
    "    return \" \".join([word for word in str(text).split() if word not in STOPWORDS])\n",
    "\n",
    "data['text'] = data['text'].apply(lambda text: remove_stopwords(text))"
   ]
  },
  {
   "cell_type": "markdown",
   "metadata": {},
   "source": [
    "When we performed lemmatization for the first time, our code ran for over 40 minutes and still didn't give an output. To make the process more efficient we decided to perform [parallel processing on spacy](https://prrao87.github.io/blog/spacy/nlp/performance/2020/05/02/spacy-multiprocess.html#Load-spaCy-model) to improve the performance. "
   ]
  },
  {
   "cell_type": "code",
   "execution_count": 12,
   "metadata": {},
   "outputs": [],
   "source": [
    "def lemmatize(doc):\n",
    "    return \" \".join([token.lemma_ for token in doc])\n",
    "\n",
    "def chunker(iterable, total_length, chunksize):\n",
    "    return (iterable[pos: pos + chunksize] for pos in range(0, total_length, chunksize))\n",
    "\n",
    "def flatten(list_of_lists):\n",
    "    \"Flatten a list of lists to a combined list\"\n",
    "    return [item for sublist in list_of_lists for item in sublist]\n",
    "\n",
    "def process_chunk(texts):\n",
    "    preproc_pipe = []\n",
    "    for doc in nlp.pipe(texts, batch_size=20):\n",
    "        preproc_pipe.append(lemmatize(doc))\n",
    "    return preproc_pipe\n",
    "\n",
    "def preprocess_parallel(texts, chunksize=100):\n",
    "    executor = Parallel(n_jobs=7, backend='multiprocessing', prefer=\"processes\")\n",
    "    do = delayed(process_chunk)\n",
    "    tasks = (do(chunk) for chunk in chunker(texts, len(data), chunksize=chunksize))\n",
    "    result = executor(tasks)\n",
    "    return flatten(result)\n",
    "\n",
    "data['text'] = preprocess_parallel(data['text'], chunksize=1000)"
   ]
  },
  {
   "cell_type": "markdown",
   "metadata": {},
   "source": [
    "### FEATURE EXTRACTION\n",
    "After data has been cleaned we perform feature extraction using the TF-IDF algorithm (term frequency-inverse document frequency)"
   ]
  },
  {
   "cell_type": "code",
   "execution_count": 13,
   "metadata": {},
   "outputs": [],
   "source": [
    "X_train, X_test, y_train, y_test = train_test_split(data['text'], data['target'], \n",
    "                                                  random_state=30, stratify=data['target'])\n",
    "\n",
    "vectorizer = TfidfVectorizer(ngram_range=(1,2), max_features=500000)\n",
    "X_train = vectorizer.fit_transform(X_train)\n",
    "X_test  = vectorizer.transform(X_test)"
   ]
  },
  {
   "cell_type": "code",
   "execution_count": 14,
   "metadata": {},
   "outputs": [
    {
     "data": {
      "text/plain": [
       "Text(0.5, 1.0, 'Most Frequently Occuring Words - Top 30')"
      ]
     },
     "execution_count": 14,
     "metadata": {},
     "output_type": "execute_result"
    },
    {
     "data": {
      "image/png": "[encoded data removed]",
      "text/plain": [
       "<Figure size 1080x504 with 1 Axes>"
      ]
     },
     "metadata": {
      "needs_background": "light"
     },
     "output_type": "display_data"
    }
   ],
   "source": [
    "# most commonly occuring words \n",
    "sum_words = X_train.sum(axis=0)\n",
    "\n",
    "words_freq = [(word, sum_words[0, i]) for word, i in vectorizer.vocabulary_.items()]\n",
    "words_freq = sorted(words_freq, key = lambda x: x[1], reverse = True)\n",
    "\n",
    "frequency = pd.DataFrame(words_freq, columns=['word', 'freq'])\n",
    "\n",
    "frequency.head(30).plot(x='word', y='freq', kind='bar', figsize=(15, 7), color = 'blue')\n",
    "plt.title(\"Most Frequently Occuring Words - Top 30\")"
   ]
  },
  {
   "cell_type": "markdown",
   "metadata": {},
   "source": [
    "### STORE DATASET"
   ]
  },
  {
   "cell_type": "code",
   "execution_count": 15,
   "metadata": {},
   "outputs": [
    {
     "name": "stdout",
     "output_type": "stream",
     "text": [
      "Stored 'X_train' (csr_matrix)\n",
      "Stored 'X_test' (csr_matrix)\n",
      "Stored 'y_train' (Series)\n",
      "Stored 'y_test' (Series)\n"
     ]
    }
   ],
   "source": [
    "%store X_train\n",
    "%store X_test\n",
    "%store y_train\n",
    "%store y_test"
   ]
  }
 ],
 "metadata": {
  "interpreter": {
   "hash": "925b4fc7bf60ec077d6844c75ccfbe79f4cc1048c4f3704f918b5a13e584ff1f"
  },
  "kernelspec": {
   "display_name": "Python 3.7.12 ('graphviz')",
   "language": "python",
   "name": "python3"
  },
  "language_info": {
   "codemirror_mode": {
    "name": "ipython",
    "version": 3
   },
   "file_extension": ".py",
   "mimetype": "text/x-python",
   "name": "python",
   "nbconvert_exporter": "python",
   "pygments_lexer": "ipython3",
   "version": "3.7.12"
  },
  "orig_nbformat": 4
 },
 "nbformat": 4,
 "nbformat_minor": 2
}
