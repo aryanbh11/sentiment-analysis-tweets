{
 "cells": [
  {
   "cell_type": "code",
   "execution_count": 1,
   "metadata": {},
   "outputs": [
    {
     "data": {
      "text/plain": [
       "Index(['target', 'ids', 'date', 'flag', 'user', 'text'], dtype='object')"
      ]
     },
     "execution_count": 1,
     "metadata": {},
     "output_type": "execute_result"
    }
   ],
   "source": [
    "%store -r dataset\n",
    "\n",
    "dataset.keys()"
   ]
  }
 ],
 "metadata": {
  "interpreter": {
   "hash": "925b4fc7bf60ec077d6844c75ccfbe79f4cc1048c4f3704f918b5a13e584ff1f"
  },
  "kernelspec": {
   "display_name": "Python 3.7.12 ('graphviz')",
   "language": "python",
   "name": "python3"
  },
  "language_info": {
   "codemirror_mode": {
    "name": "ipython",
    "version": 3
   },
   "file_extension": ".py",
   "mimetype": "text/x-python",
   "name": "python",
   "nbconvert_exporter": "python",
   "pygments_lexer": "ipython3",
   "version": "3.7.12"
  },
  "orig_nbformat": 4
 },
 "nbformat": 4,
 "nbformat_minor": 2
}
