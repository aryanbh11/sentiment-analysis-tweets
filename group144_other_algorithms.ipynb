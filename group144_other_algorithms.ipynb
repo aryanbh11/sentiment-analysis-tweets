{
 "cells": [
  {
   "cell_type": "markdown",
   "metadata": {},
   "source": [
    "# COMP5318 ASSIGNMENT 2: OTHER ALGORITHMS"
   ]
  },
  {
   "cell_type": "markdown",
   "metadata": {},
   "source": [
    "**GROUP 144:**\n",
    "- Aryan Bhatia : 490352056\n",
    "- Mudit Malhotra : 490583269\n",
    "\n",
    "**REFERENCES:**\n",
    "- https://towardsdatascience.com/multithreading-and-multiprocessing-in-10-minutes-20d9b3c6a867"
   ]
  },
  {
   "cell_type": "markdown",
   "metadata": {},
   "source": [
    "## IMPROVING PERFORMACE USING PARALLELIZATION\n",
    "\n",
    "In this notebook you will see the use of python's `joblib` library for the purpose of **Multi-threading** while training models. We have also implemented **Multi-Processing** during parameter tuning by setting the value `n_jobs` parameter of `GridSearchCV` as 1. This instructs GridSearch to use all the cores of the system while performing cross validation to find the best parameters for the classifer. \n",
    "\n",
    "### Multi-threading v/s Multi-processing\n",
    "- **Multi-Threading** is the ability of a **processor** to execute multiple threads concurrently where each thread runs a process. \n",
    "- **Multi-processing** is the ability of a **system** (CPU) to run multiple processors (cores) concurrently where each processor can run one or more threads. "
   ]
  },
  {
   "cell_type": "markdown",
   "metadata": {},
   "source": [
    "## IMPORTING CLEAN DATA & LIBRARIES"
   ]
  },
  {
   "cell_type": "code",
   "execution_count": 1,
   "metadata": {},
   "outputs": [],
   "source": [
    "import matplotlib.pyplot as plt\n",
    "import numpy as np\n",
    "\n",
    "# Make the notebook's output stable across runs\n",
    "np.random.seed(42)\n",
    "\n",
    "# multi-threading\n",
    "from joblib import parallel_backend\n",
    "\n",
    "# models \n",
    "from sklearn.naive_bayes import MultinomialNB\n",
    "from sklearn.linear_model import LogisticRegression\n",
    "\n",
    "# evaluation\n",
    "from sklearn import metrics\n",
    "\n",
    "# parameter tuning \n",
    "from sklearn.model_selection import GridSearchCV\n",
    "\n",
    "# getting the data\n",
    "%store -r X_train\n",
    "%store -r X_test\n",
    "%store -r y_train\n",
    "%store -r y_test\n",
    "\n",
    "X_train = X_train.toarray()\n",
    "X_test  = X_test.toarray()\n",
    "y_train = np.array(y_train)\n",
    "y_test  = np.array(y_test)\n",
    "\n",
    "# Reducing Number of Datapoints for better model training times\n",
    "X_train = np.resize(X_train, (100000, 1000))\n",
    "y_train = np.resize(y_train, (100000,))\n",
    "X_test  = np.resize(X_test, (42000, 1000))\n",
    "y_test  = np.resize(y_test, (42000,))\n",
    "\n",
    "# Note: After the resizing above, it is still a stratified 70-30 train-test split"
   ]
  },
  {
   "cell_type": "code",
   "execution_count": 18,
   "metadata": {},
   "outputs": [],
   "source": [
    "# Helper Function for evaluation \n",
    "def evaluate(y_test, y_predict, model):\n",
    "    print(\"\\nMODEL: \" + str(model))\n",
    "    print('Accuracy: ', metrics.accuracy_score(y_test, y_predict))\n",
    "    print(\"Precision: \", metrics.precision_score(y_test, y_predict))\n",
    "    print(\"Recall: \", metrics.recall_score(y_test, y_predict))\n",
    "    print(\"F1 Score: \", metrics.f1_score(y_test, y_predict))\n",
    "    print(\"Confusion Matrix: \\n\", metrics.confusion_matrix(y_test, y_predict))\n",
    "    fpr, tpr, _ = metrics.roc_curve(y_test,  y_predict)\n",
    "    auc = metrics.roc_auc_score(y_test, y_predict)\n",
    "\n",
    "    # Plot ROC for this label\n",
    "    plt.plot(fpr,tpr,label=\"AUC = \"+ \"{:.2f}\".format(auc))\n",
    "    \n",
    "    plt.ylabel('True Positive Rate')\n",
    "    plt.xlabel('False Positive Rate')\n",
    "    plt.legend(loc=4)\n",
    "    plt.show()"
   ]
  },
  {
   "cell_type": "markdown",
   "metadata": {},
   "source": [
    "## Naive Bayes"
   ]
  },
  {
   "cell_type": "markdown",
   "metadata": {},
   "source": [
    "Chose Multinomial NB since it works the best for multinomial distribution with discrete features. Infact, the [docs](https://scikit-learn.org/stable/modules/generated/sklearn.naive_bayes.MultinomialNB.html) mention tf-idf which is what we have applied. "
   ]
  },
  {
   "cell_type": "markdown",
   "metadata": {},
   "source": [
    "### DEFAULT"
   ]
  },
  {
   "cell_type": "code",
   "execution_count": 19,
   "metadata": {},
   "outputs": [
    {
     "name": "stdout",
     "output_type": "stream",
     "text": [
      "CPU times: user 379 ms, sys: 11.9 ms, total: 391 ms\n",
      "Wall time: 190 ms\n"
     ]
    }
   ],
   "source": [
    "%%time\n",
    "nb = MultinomialNB()\n",
    "\n",
    "with parallel_backend('threading'):\n",
    "    nb.fit(X_train, y_train)"
   ]
  },
  {
   "cell_type": "code",
   "execution_count": 20,
   "metadata": {},
   "outputs": [
    {
     "name": "stdout",
     "output_type": "stream",
     "text": [
      "\n",
      "MODEL: Multinomial Naive Bayes\n",
      "Accuracy:  0.720452380952381\n",
      "Precision:  0.728093858917088\n",
      "Recall:  0.7051440524864505\n",
      "F1 Score:  0.7164352131385098\n",
      "Confusion Matrix: \n",
      " [[15427  5539]\n",
      " [ 6202 14832]]\n"
     ]
    },
    {
     "data": {
      "image/png": "[encoded data removed]",
      "text/plain": [
       "<Figure size 432x288 with 1 Axes>"
      ]
     },
     "metadata": {
      "needs_background": "light"
     },
     "output_type": "display_data"
    }
   ],
   "source": [
    "y_predict = nb.predict(X_test)\n",
    "evaluate(y_test, y_predict, 'Multinomial Naive Bayes')"
   ]
  },
  {
   "cell_type": "markdown",
   "metadata": {},
   "source": [
    "### PARAMETER TUNING"
   ]
  },
  {
   "cell_type": "code",
   "execution_count": 5,
   "metadata": {},
   "outputs": [],
   "source": [
    "alpha_vals = []\n",
    "\n",
    "start = 0.5\n",
    "while start < 10:\n",
    "    alpha_vals.append(start)\n",
    "    start += 0.5\n",
    "\n",
    "start = 10\n",
    "while start < 100:\n",
    "    alpha_vals.append(start)\n",
    "    start += 10\n",
    "\n",
    "start = 100\n",
    "while start <= 1000:\n",
    "    alpha_vals.append(start)\n",
    "    start += 100"
   ]
  },
  {
   "cell_type": "code",
   "execution_count": 26,
   "metadata": {},
   "outputs": [
    {
     "name": "stdout",
     "output_type": "stream",
     "text": [
      "Fitting 5 folds for each of 38 candidates, totalling 190 fits\n",
      "Best parameters:  {'alpha': 20}\n",
      "\n",
      "MODEL: Multinomial Naive Bayes + GridSearchCV\n",
      "Accuracy:  0.7203809523809523\n",
      "Precision:  0.7286375270722584\n",
      "Recall:  0.7037653323191024\n",
      "F1 Score:  0.7159854897218862\n",
      "Confusion Matrix: \n",
      " [[15453  5513]\n",
      " [ 6231 14803]]\n"
     ]
    },
    {
     "data": {
      "image/png": "[encoded data removed]",
      "text/plain": [
       "<Figure size 432x288 with 1 Axes>"
      ]
     },
     "metadata": {
      "needs_background": "light"
     },
     "output_type": "display_data"
    }
   ],
   "source": [
    "gridsearch_nb = GridSearchCV(estimator=MultinomialNB(),\n",
    "             param_grid={'alpha': alpha_vals},\n",
    "             verbose=1, n_jobs=-1)\n",
    "\n",
    "gridsearch_nb.fit(X_train, y_train)\n",
    "\n",
    "print(\"Best parameters: \", gridsearch_nb.best_params_)\n",
    "\n",
    "y_predict = gridsearch_nb.predict(X_test)\n",
    "evaluate(y_test, y_predict, 'Multinomial Naive Bayes + GridSearchCV')"
   ]
  },
  {
   "cell_type": "markdown",
   "metadata": {},
   "source": [
    "As seen above, GridSearchCV is actually reducing the accuracy of our model compared to default. This is because, GridSearchCV only considers the training set and performs cross validation on it to find the best model. GridSearchCV is the right approach considering that it doesn't take the test data into account at all so it gives the best parameters (based on training data) that would perform the best on a blind dataset. In most cases this approach gives us a model that performs better on the test dataset as well but that hasn't been the case here which is fine. However, if we want to find the model that would perform the best on the test set, we can write a simple manual script as seen below. "
   ]
  },
  {
   "cell_type": "code",
   "execution_count": 7,
   "metadata": {},
   "outputs": [],
   "source": [
    "best_alpha = 0\n",
    "best_acc   = 0\n",
    "\n",
    "for alpha in alpha_vals:\n",
    "    curr_nb       = MultinomialNB(alpha=alpha).fit(X_train, y_train)\n",
    "    y_pred        = curr_nb.predict(X_test) \n",
    "    curr_accuracy = metrics.accuracy_score(y_test, y_pred)\n",
    "    if curr_accuracy > best_acc:\n",
    "        best_alpha = alpha\n",
    "        best_acc   = curr_accuracy"
   ]
  },
  {
   "cell_type": "code",
   "execution_count": 25,
   "metadata": {},
   "outputs": [
    {
     "name": "stdout",
     "output_type": "stream",
     "text": [
      "\n",
      "MODEL: Multinomial Naive Bayes + Best Alpha (Using Manual Script)\n",
      "Accuracy:  0.7208809523809524\n",
      "Precision:  0.7285356634431299\n",
      "Recall:  0.7055719311590758\n",
      "F1 Score:  0.7168699432435696\n",
      "Confusion Matrix: \n",
      " [[15436  5530]\n",
      " [ 6193 14841]]\n"
     ]
    },
    {
     "data": {
      "image/png": "[encoded data removed]",
      "text/plain": [
       "<Figure size 432x288 with 1 Axes>"
      ]
     },
     "metadata": {
      "needs_background": "light"
     },
     "output_type": "display_data"
    }
   ],
   "source": [
    "nb = MultinomialNB(alpha=best_alpha)\n",
    "\n",
    "with parallel_backend('threading'):\n",
    "    nb.fit(X_train, y_train)\n",
    "\n",
    "y_predict = nb.predict(X_test)\n",
    "evaluate(y_test, y_predict, 'Multinomial Naive Bayes + Best Alpha (Using Manual Script)')"
   ]
  },
  {
   "cell_type": "markdown",
   "metadata": {},
   "source": [
    "## Logistic Regression"
   ]
  },
  {
   "cell_type": "markdown",
   "metadata": {},
   "source": [
    "### DEFAULT"
   ]
  },
  {
   "cell_type": "code",
   "execution_count": 22,
   "metadata": {},
   "outputs": [
    {
     "name": "stdout",
     "output_type": "stream",
     "text": [
      "CPU times: user 44.2 s, sys: 1.27 s, total: 45.5 s\n",
      "Wall time: 8.04 s\n"
     ]
    }
   ],
   "source": [
    "%%time\n",
    "lr = LogisticRegression()\n",
    "\n",
    "with parallel_backend('threading'):\n",
    "    lr.fit(X_train, y_train)"
   ]
  },
  {
   "cell_type": "code",
   "execution_count": 23,
   "metadata": {},
   "outputs": [
    {
     "name": "stdout",
     "output_type": "stream",
     "text": [
      "\n",
      "MODEL: Logistic Regression\n",
      "Accuracy:  0.7328095238095238\n",
      "Precision:  0.7165430790960452\n",
      "Recall:  0.7717980412665209\n",
      "F1 Score:  0.7431448844129092\n",
      "Confusion Matrix: \n",
      " [[14544  6422]\n",
      " [ 4800 16234]]\n"
     ]
    },
    {
     "data": {
      "image/png": "[encoded data removed]",
      "text/plain": [
       "<Figure size 432x288 with 1 Axes>"
      ]
     },
     "metadata": {
      "needs_background": "light"
     },
     "output_type": "display_data"
    }
   ],
   "source": [
    "y_predict = lr.predict(X_test)\n",
    "evaluate(y_test, y_predict, 'Logistic Regression')"
   ]
  },
  {
   "cell_type": "markdown",
   "metadata": {},
   "source": [
    "### PARAMETER TUNING"
   ]
  },
  {
   "cell_type": "code",
   "execution_count": null,
   "metadata": {},
   "outputs": [],
   "source": [
    "param_grid_lr = {\n",
    "    'C': [100.0, 10.0, 1.0, 0.1, 0.01],\n",
    "    'solver': ['sag', 'saga', 'liblinear', 'newton-cg', 'lbfgs'],\n",
    "    'penalty': ['l1', 'l2', 'elasticnet', 'none']\n",
    "}\n",
    "gridsearch_lr = GridSearchCV(estimator=LogisticRegression(),\n",
    "             param_grid=param_grid_lr, verbose=1, n_jobs=-1)\n",
    "\n",
    "gridsearch_lr.fit(X_train, y_train)"
   ]
  },
  {
   "cell_type": "code",
   "execution_count": 24,
   "metadata": {},
   "outputs": [
    {
     "name": "stdout",
     "output_type": "stream",
     "text": [
      "Best parameters:  {'C': 1.0, 'penalty': 'l1', 'solver': 'saga'}\n",
      "\n",
      "MODEL: Logistic Regression + GridSearchCV\n",
      "Accuracy:  0.7334047619047619\n",
      "Precision:  0.7158278116635218\n",
      "Recall:  0.775553865170676\n",
      "F1 Score:  0.7444948999383885\n",
      "Confusion Matrix: \n",
      " [[14490  6476]\n",
      " [ 4721 16313]]\n"
     ]
    },
    {
     "data": {
      "image/png": "[encoded data removed]",
      "text/plain": [
       "<Figure size 432x288 with 1 Axes>"
      ]
     },
     "metadata": {
      "needs_background": "light"
     },
     "output_type": "display_data"
    }
   ],
   "source": [
    "print(\"Best parameters: \", gridsearch_lr.best_params_)\n",
    "\n",
    "y_predict = gridsearch_lr.predict(X_test)\n",
    "evaluate(y_test, y_predict, 'Logistic Regression + GridSearchCV')"
   ]
  },
  {
   "cell_type": "markdown",
   "metadata": {},
   "source": [
    "## Long Short Term Memory Model (LSTM)"
   ]
  }
 ],
 "metadata": {
  "interpreter": {
   "hash": "aee8b7b246df8f9039afb4144a1f6fd8d2ca17a180786b69acc140d282b71a49"
  },
  "kernelspec": {
   "display_name": "Python 3.7.4 64-bit",
   "language": "python",
   "name": "python3"
  },
  "language_info": {
   "codemirror_mode": {
    "name": "ipython",
    "version": 3
   },
   "file_extension": ".py",
   "mimetype": "text/x-python",
   "name": "python",
   "nbconvert_exporter": "python",
   "pygments_lexer": "ipython3",
   "version": "3.7.13"
  },
  "orig_nbformat": 4
 },
 "nbformat": 4,
 "nbformat_minor": 2
}
