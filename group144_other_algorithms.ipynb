{
 "cells": [
  {
   "cell_type": "markdown",
   "metadata": {},
   "source": [
    "## IMPORTING CLEAN DATA & LIBRARIES"
   ]
  },
  {
   "cell_type": "code",
   "execution_count": 1,
   "metadata": {},
   "outputs": [
    {
     "name": "stderr",
     "output_type": "stream",
     "text": [
      "\u001b[2m\u001b[33m(raylet)\u001b[0m [2022-05-19 22:02:47,249 E 74771 349897] (raylet) agent_manager.cc:107: The raylet exited immediately because the Ray agent failed. The raylet fate shares with the agent. This can happen because the Ray agent was unexpectedly killed or failed. See `dashboard_agent.log` for the root cause.\n",
      "2022-05-19 22:03:15,629\tWARNING worker.py:1382 -- The node with node id: 7d0bdb39074bfd60b67840a2609706e0f65e1f873e67a62c4f06bb89 and ip: 127.0.0.1 has been marked dead because the detector has missed too many heartbeats from it. This can happen when a raylet crashes unexpectedly or has lagging heartbeats.\n"
     ]
    }
   ],
   "source": [
    "import matplotlib.pyplot as plt\n",
    "import numpy as np\n",
    "\n",
    "# Make the notebook's output stable across runs\n",
    "np.random.seed(42)\n",
    "\n",
    "# parallelization\n",
    "from joblib import parallel_backend\n",
    "from ray.util.joblib import register_ray\n",
    "register_ray()\n",
    "\n",
    "# models \n",
    "from sklearn.naive_bayes import GaussianNB\n",
    "from sklearn.linear_model import LogisticRegression\n",
    "\n",
    "# evaluation\n",
    "from sklearn import metrics\n",
    "\n",
    "# parameter tuning \n",
    "from sklearn.model_selection import GridSearchCV\n",
    "\n",
    "# getting the data\n",
    "%store -r X_train\n",
    "%store -r X_test\n",
    "%store -r y_train\n",
    "%store -r y_test\n",
    "\n",
    "X_train = X_train.toarray()\n",
    "X_test  = X_test.toarray()\n",
    "y_train = np.array(y_train)\n",
    "y_test = np.array(y_test)\n",
    "\n",
    "# Reducing Number of Datapoints for better model training times\n",
    "X_train = np.resize(X_train, (100000, 1000))\n",
    "y_train = np.resize(y_train, (100000,))\n",
    "X_test  = np.resize(X_test, (42000, 1000))\n",
    "y_test  = np.resize(y_test, (42000,))\n",
    "\n",
    "# Note: Still stratified "
   ]
  },
  {
   "cell_type": "code",
   "execution_count": 2,
   "metadata": {},
   "outputs": [],
   "source": [
    "# Helper Function for evaluation \n",
    "def evaluate(y_test, y_predict, model):\n",
    "    print(\"\\nMODEL: \" + str(model))\n",
    "    print('Accuracy: ', metrics.accuracy_score(y_test, y_predict))\n",
    "    print(\"Precision: \", metrics.precision_score(y_test, y_predict))\n",
    "    print(\"Recall: \", metrics.recall_score(y_test, y_predict))\n",
    "    print(\"F1 Score: \", metrics.f1_score(y_test, y_predict))\n",
    "\n",
    "    fpr, tpr, _ = metrics.roc_curve(y_test,  y_predict)\n",
    "    auc = metrics.roc_auc_score(y_test, y_predict)\n",
    "\n",
    "    # Plot ROC for this label\n",
    "    plt.plot(fpr,tpr,label=\"AUC = \"+ \"{:.2f}\".format(auc))\n",
    "    \n",
    "    plt.ylabel('True Positive Rate')\n",
    "    plt.xlabel('False Positive Rate')\n",
    "    plt.legend(loc=4)\n",
    "    plt.show()"
   ]
  },
  {
   "cell_type": "markdown",
   "metadata": {},
   "source": [
    "## Naive Bayes"
   ]
  },
  {
   "cell_type": "markdown",
   "metadata": {},
   "source": [
    "### DEFAULT"
   ]
  },
  {
   "cell_type": "code",
   "execution_count": 3,
   "metadata": {},
   "outputs": [],
   "source": [
    "%%time\n",
    "nb = GaussianNB()\n",
    "\n",
    "with parallel_backend(\"ray\"):\n",
    "    nb.fit(X_train, y_train)"
   ]
  },
  {
   "cell_type": "code",
   "execution_count": 4,
   "metadata": {},
   "outputs": [
    {
     "name": "stdout",
     "output_type": "stream",
     "text": [
      "CPU times: user 1.39 s, sys: 999 ms, total: 2.39 s\n",
      "Wall time: 2.42 s\n",
      "\n",
      "MODEL: Naive Bayes\n",
      "Accuracy:  0.6963095238095238\n",
      "Precision:  0.6772273836537227\n",
      "Recall:  0.752020538176286\n",
      "F1 Score:  0.7126669820459103\n"
     ]
    },
    {
     "data": {
      "image/png": "[encoded data removed]",
      "text/plain": [
       "<Figure size 432x288 with 1 Axes>"
      ]
     },
     "metadata": {
      "needs_background": "light"
     },
     "output_type": "display_data"
    }
   ],
   "source": [
    "y_predict = nb.predict(X_test)\n",
    "evaluate(y_test, y_predict, 'Naive Bayes')"
   ]
  },
  {
   "cell_type": "markdown",
   "metadata": {},
   "source": [
    "### PARAMETER TUNING"
   ]
  },
  {
   "cell_type": "code",
   "execution_count": null,
   "metadata": {},
   "outputs": [],
   "source": [
    "gridsearch_nb = GridSearchCV(estimator=GaussianNB(),\n",
    "             param_grid={'var_smoothing': np.logspace(0, -9, num=100)},\n",
    "             verbose=1, cv=5, n_jobs=-1)\n",
    "\n",
    "with parallel_backend(\"ray\"):\n",
    "    gridsearch_nb.fit(X_train, y_train)\n",
    "    \n",
    "print(\"Best parameters: \", gridsearch_nb.best_params_)"
   ]
  },
  {
   "cell_type": "markdown",
   "metadata": {},
   "source": [
    "## Logistic Regression"
   ]
  },
  {
   "cell_type": "markdown",
   "metadata": {},
   "source": [
    "### DEFAULT"
   ]
  },
  {
   "cell_type": "code",
   "execution_count": null,
   "metadata": {},
   "outputs": [],
   "source": [
    "%%time\n",
    "lr = LogisticRegression()\n",
    "\n",
    "with parallel_backend(\"ray\"):\n",
    "    lr.fit(X_train, y_train)"
   ]
  },
  {
   "cell_type": "code",
   "execution_count": 6,
   "metadata": {},
   "outputs": [
    {
     "name": "stdout",
     "output_type": "stream",
     "text": [
      "CPU times: user 790 ms, sys: 2.26 s, total: 3.05 s\n",
      "Wall time: 37.3 s\n",
      "\n",
      "MODEL: Logistic Regression\n",
      "Accuracy:  0.7328095238095238\n",
      "Precision:  0.7165430790960452\n",
      "Recall:  0.7717980412665209\n",
      "F1 Score:  0.7431448844129092\n"
     ]
    },
    {
     "data": {
      "image/png": "[encoded data removed]",
      "text/plain": [
       "<Figure size 432x288 with 1 Axes>"
      ]
     },
     "metadata": {
      "needs_background": "light"
     },
     "output_type": "display_data"
    },
    {
     "ename": "",
     "evalue": "",
     "output_type": "error",
     "traceback": [
      "\u001b[1;31mThe Kernel crashed while executing code in the the current cell or a previous cell. Please review the code in the cell(s) to identify a possible cause of the failure. Click <a href='https://aka.ms/vscodeJupyterKernelCrash'>here</a> for more info. View Jupyter <a href='command:jupyter.viewOutput'>log</a> for further details."
     ]
    }
   ],
   "source": [
    "y_predict = lr.predict(X_test)\n",
    "evaluate(y_test, y_predict, 'Logistic Regression')"
   ]
  },
  {
   "cell_type": "markdown",
   "metadata": {},
   "source": [
    "### PARAMETER TUNING"
   ]
  },
  {
   "cell_type": "code",
   "execution_count": null,
   "metadata": {},
   "outputs": [],
   "source": [
    "gridsearch_lr = GridSearchCV(estimator=LogisticRegression(),\n",
    "             param_grid={'C': [100.0, 10.0, 1.0, 0.1, 0.01], 'solver': ['liblinear', 'lbfgs']},\n",
    "             verbose=1, cv=5, n_jobs=-1)\n",
    "\n",
    "with parallel_backend(\"ray\"):\n",
    "    gridsearch_lr.fit(X_train, y_train)\n",
    "    \n",
    "print(\"Best parameters: \", gridsearch_lr.best_params_)"
   ]
  },
  {
   "cell_type": "markdown",
   "metadata": {},
   "source": [
    "## Long Short Term Memory Model (LSTM)"
   ]
  }
 ],
 "metadata": {
  "interpreter": {
   "hash": "aee8b7b246df8f9039afb4144a1f6fd8d2ca17a180786b69acc140d282b71a49"
  },
  "kernelspec": {
   "display_name": "Python 3.7.4 64-bit",
   "language": "python",
   "name": "python3"
  },
  "language_info": {
   "codemirror_mode": {
    "name": "ipython",
    "version": 3
   },
   "file_extension": ".py",
   "mimetype": "text/x-python",
   "name": "python",
   "nbconvert_exporter": "python",
   "pygments_lexer": "ipython3",
   "version": "3.7.4"
  },
  "orig_nbformat": 4
 },
 "nbformat": 4,
 "nbformat_minor": 2
}
