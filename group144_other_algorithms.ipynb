{
 "cells": [
  {
   "cell_type": "markdown",
   "metadata": {},
   "source": [
    "## IMPORTING CLEAN DATA & LIBRARIES"
   ]
  },
  {
   "cell_type": "code",
   "execution_count": 1,
   "metadata": {},
   "outputs": [],
   "source": [
    "import matplotlib.pyplot as plt\n",
    "import numpy as np\n",
    "\n",
    "# Make the notebook's output stable across runs\n",
    "np.random.seed(42)\n",
    "\n",
    "# parallelization : https://towardsdatascience.com/multithreading-and-multiprocessing-in-10-minutes-20d9b3c6a867\n",
    "from joblib import parallel_backend\n",
    "\n",
    "# models \n",
    "from sklearn.naive_bayes import MultinomialNB\n",
    "from sklearn.linear_model import LogisticRegression\n",
    "\n",
    "# evaluation\n",
    "from sklearn import metrics\n",
    "\n",
    "# parameter tuning \n",
    "from sklearn.model_selection import GridSearchCV\n",
    "\n",
    "# getting the data\n",
    "%store -r X_train\n",
    "%store -r X_test\n",
    "%store -r y_train\n",
    "%store -r y_test\n",
    "\n",
    "X_train = X_train.toarray()\n",
    "X_test  = X_test.toarray()\n",
    "y_train = np.array(y_train)\n",
    "y_test = np.array(y_test)\n",
    "\n",
    "# Reducing Number of Datapoints for better model training times\n",
    "X_train = np.resize(X_train, (100000, 1000))\n",
    "y_train = np.resize(y_train, (100000,))\n",
    "X_test  = np.resize(X_test, (42000, 1000))\n",
    "y_test  = np.resize(y_test, (42000,))\n",
    "\n",
    "# Note: Still stratified "
   ]
  },
  {
   "cell_type": "code",
   "execution_count": 2,
   "metadata": {},
   "outputs": [],
   "source": [
    "# Helper Function for evaluation \n",
    "def evaluate(y_test, y_predict, model):\n",
    "    print(\"\\nMODEL: \" + str(model))\n",
    "    print('Accuracy: ', metrics.accuracy_score(y_test, y_predict))\n",
    "    print(\"Precision: \", metrics.precision_score(y_test, y_predict))\n",
    "    print(\"Recall: \", metrics.recall_score(y_test, y_predict))\n",
    "    print(\"F1 Score: \", metrics.f1_score(y_test, y_predict))\n",
    "\n",
    "    fpr, tpr, _ = metrics.roc_curve(y_test,  y_predict)\n",
    "    auc = metrics.roc_auc_score(y_test, y_predict)\n",
    "\n",
    "    # Plot ROC for this label\n",
    "    plt.plot(fpr,tpr,label=\"AUC = \"+ \"{:.2f}\".format(auc))\n",
    "    \n",
    "    plt.ylabel('True Positive Rate')\n",
    "    plt.xlabel('False Positive Rate')\n",
    "    plt.legend(loc=4)\n",
    "    plt.show()"
   ]
  },
  {
   "cell_type": "markdown",
   "metadata": {},
   "source": [
    "## Naive Bayes"
   ]
  },
  {
   "cell_type": "markdown",
   "metadata": {},
   "source": [
    "Chose Multinomial NB since it works the best for multinomial distribution with discrete features. Infact, the [docs](https://scikit-learn.org/stable/modules/generated/sklearn.naive_bayes.MultinomialNB.html) mention tf-idf which is what we have applied. "
   ]
  },
  {
   "cell_type": "markdown",
   "metadata": {},
   "source": [
    "### DEFAULT"
   ]
  },
  {
   "cell_type": "code",
   "execution_count": 3,
   "metadata": {},
   "outputs": [
    {
     "name": "stdout",
     "output_type": "stream",
     "text": [
      "CPU times: user 500 ms, sys: 244 ms, total: 744 ms\n",
      "Wall time: 540 ms\n"
     ]
    }
   ],
   "source": [
    "%%time\n",
    "nb = MultinomialNB()\n",
    "\n",
    "with parallel_backend('threading'):\n",
    "    nb.fit(X_train, y_train)"
   ]
  },
  {
   "cell_type": "code",
   "execution_count": 4,
   "metadata": {},
   "outputs": [
    {
     "name": "stdout",
     "output_type": "stream",
     "text": [
      "\n",
      "MODEL: Multinomial Naive Bayes\n",
      "Accuracy:  0.720452380952381\n",
      "Precision:  0.728093858917088\n",
      "Recall:  0.7051440524864505\n",
      "F1 Score:  0.7164352131385098\n"
     ]
    },
    {
     "data": {
      "image/png": "[encoded data removed]",
      "text/plain": [
       "<Figure size 432x288 with 1 Axes>"
      ]
     },
     "metadata": {
      "needs_background": "light"
     },
     "output_type": "display_data"
    }
   ],
   "source": [
    "y_predict = nb.predict(X_test)\n",
    "evaluate(y_test, y_predict, 'Multinomial Naive Bayes')"
   ]
  },
  {
   "cell_type": "markdown",
   "metadata": {},
   "source": [
    "### PARAMETER TUNING"
   ]
  },
  {
   "cell_type": "code",
   "execution_count": 5,
   "metadata": {},
   "outputs": [],
   "source": [
    "alpha_vals = []\n",
    "\n",
    "start = 0.5\n",
    "while start < 10:\n",
    "    alpha_vals.append(start)\n",
    "    start += 0.5\n",
    "\n",
    "start = 10\n",
    "while start < 100:\n",
    "    alpha_vals.append(start)\n",
    "    start += 10\n",
    "\n",
    "start = 100\n",
    "while start <= 1000:\n",
    "    alpha_vals.append(start)\n",
    "    start += 100"
   ]
  },
  {
   "cell_type": "code",
   "execution_count": 10,
   "metadata": {},
   "outputs": [
    {
     "name": "stdout",
     "output_type": "stream",
     "text": [
      "Fitting 5 folds for each of 38 candidates, totalling 190 fits\n"
     ]
    }
   ],
   "source": [
    "gridsearch_nb = GridSearchCV(estimator=MultinomialNB(),\n",
    "             param_grid={'alpha': alpha_vals},\n",
    "             verbose=1, cv=5, n_jobs=-1)\n",
    "\n",
    "gridsearch_nb.fit(X_train, y_train)\n",
    "\n",
    "print(\"Best parameters: \", gridsearch_nb.best_params_)"
   ]
  },
  {
   "cell_type": "code",
   "execution_count": null,
   "metadata": {},
   "outputs": [],
   "source": [
    "%%time\n",
    "# Best NB"
   ]
  },
  {
   "cell_type": "markdown",
   "metadata": {},
   "source": [
    "## Logistic Regression"
   ]
  },
  {
   "cell_type": "markdown",
   "metadata": {},
   "source": [
    "### DEFAULT"
   ]
  },
  {
   "cell_type": "code",
   "execution_count": 7,
   "metadata": {},
   "outputs": [
    {
     "name": "stdout",
     "output_type": "stream",
     "text": [
      "CPU times: user 44.4 s, sys: 1.15 s, total: 45.6 s\n",
      "Wall time: 7.93 s\n"
     ]
    }
   ],
   "source": [
    "%%time\n",
    "lr = LogisticRegression()\n",
    "\n",
    "with parallel_backend('threading'):\n",
    "    lr.fit(X_train, y_train)"
   ]
  },
  {
   "cell_type": "code",
   "execution_count": 8,
   "metadata": {},
   "outputs": [
    {
     "name": "stdout",
     "output_type": "stream",
     "text": [
      "\n",
      "MODEL: Logistic Regression\n",
      "Accuracy:  0.7328095238095238\n",
      "Precision:  0.7165430790960452\n",
      "Recall:  0.7717980412665209\n",
      "F1 Score:  0.7431448844129092\n"
     ]
    },
    {
     "data": {
      "image/png": "[encoded data removed]",
      "text/plain": [
       "<Figure size 432x288 with 1 Axes>"
      ]
     },
     "metadata": {
      "needs_background": "light"
     },
     "output_type": "display_data"
    }
   ],
   "source": [
    "y_predict = lr.predict(X_test)\n",
    "evaluate(y_test, y_predict, 'Logistic Regression')"
   ]
  },
  {
   "cell_type": "markdown",
   "metadata": {},
   "source": [
    "### PARAMETER TUNING"
   ]
  },
  {
   "cell_type": "code",
   "execution_count": null,
   "metadata": {},
   "outputs": [],
   "source": [
    "gridsearch_lr = GridSearchCV(estimator=LogisticRegression(),\n",
    "             param_grid={'C': [100.0, 10.0, 1.0, 0.1, 0.01], 'solver': ['sag', 'saga', 'liblinear']},\n",
    "             verbose=1, cv=5, n_jobs=-1)\n",
    "\n",
    "gridsearch_lr.fit(X_train, y_train)\n",
    "    \n",
    "print(\"Best parameters: \", gridsearch_lr.best_params_)"
   ]
  },
  {
   "cell_type": "code",
   "execution_count": null,
   "metadata": {},
   "outputs": [],
   "source": [
    "%%time\n",
    "# Best LR"
   ]
  },
  {
   "cell_type": "markdown",
   "metadata": {},
   "source": [
    "## Long Short Term Memory Model (LSTM)"
   ]
  }
 ],
 "metadata": {
  "interpreter": {
   "hash": "aee8b7b246df8f9039afb4144a1f6fd8d2ca17a180786b69acc140d282b71a49"
  },
  "kernelspec": {
   "display_name": "Python 3.7.4 64-bit",
   "language": "python",
   "name": "python3"
  },
  "language_info": {
   "codemirror_mode": {
    "name": "ipython",
    "version": 3
   },
   "file_extension": ".py",
   "mimetype": "text/x-python",
   "name": "python",
   "nbconvert_exporter": "python",
   "pygments_lexer": "ipython3",
   "version": "3.7.13"
  },
  "orig_nbformat": 4
 },
 "nbformat": 4,
 "nbformat_minor": 2
}
