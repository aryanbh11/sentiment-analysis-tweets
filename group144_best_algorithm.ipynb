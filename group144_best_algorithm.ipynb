{
 "cells": [
  {
   "cell_type": "markdown",
   "metadata": {},
   "source": [
    "# COMP5318 ASSIGNMENT 2: BEST ALGORITHM"
   ]
  },
  {
   "cell_type": "markdown",
   "metadata": {},
   "source": [
    "**GROUP 144:**\n",
    "- Aryan Bhatia : 490352056\n",
    "- Mudit Malhotra : 490583269"
   ]
  },
  {
   "cell_type": "code",
   "execution_count": 34,
   "metadata": {},
   "outputs": [],
   "source": [
    "# Loading the data set\n",
    "%store -r data\n",
    "\n",
    "# Parallelisation\n",
    "from joblib import parallel_backend\n",
    "\n",
    "# evaluation\n",
    "from sklearn import metrics\n",
    "import matplotlib.pyplot as plt\n",
    "\n",
    "# Data\n",
    "import numpy as np\n",
    "from keras.preprocessing.text import Tokenizer\n",
    "from tensorflow.keras.preprocessing.sequence import pad_sequences\n",
    "from keras.utils import to_categorical\n",
    "\n",
    "# Model Imports\n",
    "from keras.layers import Dense, Input, GlobalMaxPooling1D, Conv1D, Embedding, Flatten, Dropout, Activation\n",
    "from keras.models import Model"
   ]
  },
  {
   "cell_type": "markdown",
   "metadata": {},
   "source": [
    "# Convolutional Neural Network (CNN)"
   ]
  },
  {
   "cell_type": "code",
   "execution_count": 35,
   "metadata": {},
   "outputs": [],
   "source": [
    "# Subsetting the data to get 1,000,000 observations\n",
    "data = data.sample(n = 1000000)"
   ]
  },
  {
   "cell_type": "markdown",
   "metadata": {},
   "source": [
    "### Data Pre-Processing "
   ]
  },
  {
   "cell_type": "code",
   "execution_count": 36,
   "metadata": {},
   "outputs": [
    {
     "name": "stdout",
     "output_type": "stream",
     "text": [
      "Found 287167 unique tokens.\n",
      "Shape of data tensor: (1000000, 50)\n",
      "Shape of label tensor: (1000000, 2)\n"
     ]
    }
   ],
   "source": [
    "# Tokenizing and Sequence Padding for training data\n",
    "\n",
    "MAX_SEQUENCE_LENGTH = 50\n",
    "MAX_NUM_WORDS = 10000\n",
    "tokenizer = Tokenizer(num_words=MAX_NUM_WORDS)\n",
    "tokenizer.fit_on_texts(data['text'])\n",
    "sequences = tokenizer.texts_to_sequences(data['text'])\n",
    "\n",
    "features = pad_sequences(sequences, maxlen=MAX_SEQUENCE_LENGTH)\n",
    "labels = to_categorical(np.asarray(data['target']))\n",
    "\n",
    "word_index = tokenizer.word_index\n",
    "print('Found %s unique tokens.' % len(word_index))\n",
    "print('Shape of data tensor:', features.shape)\n",
    "print('Shape of label tensor:', labels.shape)\n",
    "\n",
    "# Train and test split\n",
    "\n",
    "TRAIN_SPLIT = 0.2\n",
    "indices  = np.arange(features.shape[0])\n",
    "np.random.shuffle(indices)\n",
    "features = features[indices]\n",
    "labels   = labels[indices]\n",
    "num_test_samples = int(TRAIN_SPLIT * features.shape[0])\n",
    "x_train = features[:-num_test_samples]\n",
    "y_train = labels[:-num_test_samples]\n",
    "x_testing   = features[-num_test_samples:]\n",
    "y_testing   = labels[-num_test_samples:]\n",
    "\n",
    "# Test and validation split\n",
    "\n",
    "VALIDATION_SPLIT = 0.5\n",
    "indices  = np.arange(x_testing.shape[0])\n",
    "np.random.shuffle(indices)\n",
    "x_testing = x_testing[indices]\n",
    "y_testing   = y_testing[indices]\n",
    "num_val_samples = int(VALIDATION_SPLIT * x_testing.shape[0])\n",
    "x_test = x_testing[:-num_val_samples]\n",
    "y_test = y_testing[:-num_val_samples]\n",
    "x_val   = x_testing[-num_val_samples:]\n",
    "y_val   = y_testing[-num_val_samples:]\n"
   ]
  },
  {
   "cell_type": "markdown",
   "metadata": {},
   "source": [
    "### Creating Embedding Matrix"
   ]
  },
  {
   "cell_type": "code",
   "execution_count": 37,
   "metadata": {},
   "outputs": [
    {
     "name": "stdout",
     "output_type": "stream",
     "text": [
      "Found 400000 word vectors.\n"
     ]
    }
   ],
   "source": [
    "# Generating embedding index from Glove text file\n",
    "\n",
    "embeddings_index = {}\n",
    "\n",
    "# opening the downloaded glove embeddings file\n",
    "f = open('glove.6B.300d.txt')\n",
    "for line in f:\n",
    "    # For each line file, the words are split and stored in a list\n",
    "    values = line.split()\n",
    "    word   = value = values[0]\n",
    "    coefs  = np.asarray(values[1:], dtype='float32')\n",
    "    embeddings_index[word] = coefs\n",
    "    \n",
    "f.close()\n",
    "print('Found %s word vectors.' %len(embeddings_index))"
   ]
  },
  {
   "cell_type": "code",
   "execution_count": 38,
   "metadata": {},
   "outputs": [],
   "source": [
    "# Creating embedding matrix\n",
    "\n",
    "EMBEDDING_DIM = 300\n",
    "embedding_matrix = np.zeros((MAX_NUM_WORDS, EMBEDDING_DIM))\n",
    "\n",
    "for word, i in tokenizer.word_index.items():\n",
    "    if i >= MAX_NUM_WORDS:\n",
    "        continue\n",
    "    embedding_vector = embeddings_index.get(word)\n",
    "    if embedding_vector is not None:\n",
    "        embedding_matrix[i] = embedding_vector"
   ]
  },
  {
   "cell_type": "markdown",
   "metadata": {},
   "source": [
    "### Building the model"
   ]
  },
  {
   "cell_type": "code",
   "execution_count": 39,
   "metadata": {},
   "outputs": [
    {
     "name": "stdout",
     "output_type": "stream",
     "text": [
      "Model: \"model_3\"\n",
      "_________________________________________________________________\n",
      " Layer (type)                Output Shape              Param #   \n",
      "=================================================================\n",
      " input_4 (InputLayer)        [(None, 50)]              0         \n",
      "                                                                 \n",
      " embedding_3 (Embedding)     (None, 50, 300)           3000000   \n",
      "                                                                 \n",
      " conv1d_9 (Conv1D)           (None, 48, 64)            57664     \n",
      "                                                                 \n",
      " conv1d_10 (Conv1D)          (None, 46, 32)            6176      \n",
      "                                                                 \n",
      " conv1d_11 (Conv1D)          (None, 44, 16)            1552      \n",
      "                                                                 \n",
      " global_max_pooling1d_3 (Glo  (None, 16)               0         \n",
      " balMaxPooling1D)                                                \n",
      "                                                                 \n",
      " flatten_3 (Flatten)         (None, 16)                0         \n",
      "                                                                 \n",
      " dropout_6 (Dropout)         (None, 16)                0         \n",
      "                                                                 \n",
      " dense_6 (Dense)             (None, 180)               3060      \n",
      "                                                                 \n",
      " dropout_7 (Dropout)         (None, 180)               0         \n",
      "                                                                 \n",
      " dense_7 (Dense)             (None, 2)                 362       \n",
      "                                                                 \n",
      " activation_3 (Activation)   (None, 2)                 0         \n",
      "                                                                 \n",
      "=================================================================\n",
      "Total params: 3,068,814\n",
      "Trainable params: 68,814\n",
      "Non-trainable params: 3,000,000\n",
      "_________________________________________________________________\n"
     ]
    }
   ],
   "source": [
    "sequence_input = Input(shape=(MAX_SEQUENCE_LENGTH,), dtype='int32')\n",
    "\n",
    "embedding_layer = Embedding(MAX_NUM_WORDS,EMBEDDING_DIM,input_length=MAX_SEQUENCE_LENGTH,trainable=False, weights = [embedding_matrix])\n",
    "embedded_sequences = embedding_layer(sequence_input)\n",
    "\n",
    "x = Conv1D(64, 3, activation='relu')(embedded_sequences)\n",
    "x = Conv1D(32, 3, activation='relu')(x)\n",
    "x = Conv1D(16, 3, activation='relu')(x)\n",
    "\n",
    "x = GlobalMaxPooling1D()(x)\n",
    "\n",
    "x = Flatten()(x)\n",
    "\n",
    "x = Dropout(0.2)(x)\n",
    "x = Dense(180, activation='relu')(x)\n",
    "x = Dropout(0.2)(x)\n",
    "x = Dense(2, activation='relu')(x)\n",
    "\n",
    "output = Activation('sigmoid')(x)\n",
    "\n",
    "model = Model(inputs=[sequence_input], outputs=[output])\n",
    "model.compile(loss='categorical_crossentropy',optimizer='adam',metrics=['acc'])\n",
    "\n",
    "model.summary()"
   ]
  },
  {
   "cell_type": "markdown",
   "metadata": {},
   "source": [
    "### Training the model"
   ]
  },
  {
   "cell_type": "code",
   "execution_count": 40,
   "metadata": {},
   "outputs": [
    {
     "name": "stdout",
     "output_type": "stream",
     "text": [
      "Epoch 1/10\n",
      "782/782 [==============================] - 112s 142ms/step - loss: 0.5361 - acc: 0.7286 - val_loss: 0.5123 - val_acc: 0.7495\n",
      "Epoch 2/10\n",
      "782/782 [==============================] - 106s 135ms/step - loss: 0.5018 - acc: 0.7545 - val_loss: 0.5097 - val_acc: 0.7521\n",
      "Epoch 3/10\n",
      "782/782 [==============================] - 105s 134ms/step - loss: 0.4906 - acc: 0.7619 - val_loss: 0.5048 - val_acc: 0.7563\n",
      "Epoch 4/10\n",
      "782/782 [==============================] - 108s 138ms/step - loss: 0.4832 - acc: 0.7667 - val_loss: 0.5004 - val_acc: 0.7578\n",
      "Epoch 5/10\n",
      "782/782 [==============================] - 106s 136ms/step - loss: 0.4769 - acc: 0.7708 - val_loss: 0.4973 - val_acc: 0.7585\n",
      "Epoch 6/10\n",
      "782/782 [==============================] - 108s 138ms/step - loss: 0.4721 - acc: 0.7742 - val_loss: 0.4971 - val_acc: 0.7564\n",
      "Epoch 7/10\n",
      "782/782 [==============================] - 107s 137ms/step - loss: 0.4682 - acc: 0.7764 - val_loss: 0.4968 - val_acc: 0.7580\n",
      "Epoch 8/10\n",
      "782/782 [==============================] - 107s 137ms/step - loss: 0.4646 - acc: 0.7786 - val_loss: 0.4962 - val_acc: 0.7572\n",
      "Epoch 9/10\n",
      "782/782 [==============================] - 110s 141ms/step - loss: 0.4618 - acc: 0.7807 - val_loss: 0.4967 - val_acc: 0.7568\n",
      "Epoch 10/10\n",
      "782/782 [==============================] - 112s 143ms/step - loss: 0.4588 - acc: 0.7825 - val_loss: 0.4958 - val_acc: 0.7577\n"
     ]
    }
   ],
   "source": [
    "with parallel_backend('threading'):\n",
    "    history = model.fit(x_train, y_train,batch_size=1024, epochs=10, validation_data=(x_val, y_val))"
   ]
  },
  {
   "cell_type": "markdown",
   "metadata": {},
   "source": [
    "### Evaluating the model"
   ]
  },
  {
   "cell_type": "code",
   "execution_count": 41,
   "metadata": {},
   "outputs": [],
   "source": [
    "# Helper Function for evaluation \n",
    "def evaluate(y_test, y_predict, model):\n",
    "    print(\"\\nMODEL: \" + str(model))\n",
    "    print('Accuracy: ', metrics.accuracy_score(y_test, y_predict))\n",
    "    print(\"Precision: \", metrics.precision_score(y_test, y_predict))\n",
    "    print(\"Recall: \", metrics.recall_score(y_test, y_predict))\n",
    "    print(\"F1 Score: \", metrics.f1_score(y_test, y_predict))\n",
    "\n",
    "    fpr, tpr, _ = metrics.roc_curve(y_test,  y_predict)\n",
    "    auc = metrics.roc_auc_score(y_test, y_predict)\n",
    "\n",
    "    # Plot ROC for this label\n",
    "    plt.plot(fpr,tpr,label=\"AUC = \"+ \"{:.2f}\".format(auc))\n",
    "    \n",
    "    plt.ylabel('True Positive Rate')\n",
    "    plt.xlabel('False Positive Rate')\n",
    "    plt.legend(loc=4)\n",
    "    plt.show()"
   ]
  },
  {
   "cell_type": "code",
   "execution_count": 42,
   "metadata": {},
   "outputs": [
    {
     "name": "stdout",
     "output_type": "stream",
     "text": [
      "3125/3125 [==============================] - 10s 3ms/step\n",
      "\n",
      "MODEL: Convolutional Neural Network\n",
      "Accuracy:  0.75665\n",
      "Precision:  0.7556184816639081\n",
      "Recall:  0.7582646281917874\n",
      "F1 Score:  0.756939242301661\n"
     ]
    },
    {
     "data": {
      "image/png": "[encoded data removed]",
      "text/plain": [
       "<Figure size 432x288 with 1 Axes>"
      ]
     },
     "metadata": {
      "needs_background": "light"
     },
     "output_type": "display_data"
    }
   ],
   "source": [
    "y_pred = model.predict(x_test)\n",
    "y_pred = np.argmax(y_pred, axis = 1)\n",
    "y_test = np.argmax(y_test, axis = 1)\n",
    "\n",
    "evaluate(y_test, y_pred, 'Convolutional Neural Network')"
   ]
  },
  {
   "cell_type": "code",
   "execution_count": 43,
   "metadata": {},
   "outputs": [
    {
     "data": {
      "image/png": "[encoded data removed]",
      "text/plain": [
       "<Figure size 432x288 with 1 Axes>"
      ]
     },
     "metadata": {
      "needs_background": "light"
     },
     "output_type": "display_data"
    },
    {
     "data": {
      "image/png": "[encoded data removed]",
      "text/plain": [
       "<Figure size 432x288 with 1 Axes>"
      ]
     },
     "metadata": {
      "needs_background": "light"
     },
     "output_type": "display_data"
    }
   ],
   "source": [
    "plt.plot(history.history['acc'])\n",
    "plt.plot(history.history['val_acc'])\n",
    "\n",
    "plt.title('model accuracy')\n",
    "plt.ylabel('accuracy')\n",
    "plt.xlabel('epoch')\n",
    "plt.legend(['train','test'], loc = 'upper left')\n",
    "plt.show()\n",
    "\n",
    "plt.plot(history.history['loss'])\n",
    "plt.plot(history.history['val_loss'])\n",
    "\n",
    "plt.title('model loss')\n",
    "plt.ylabel('loss')\n",
    "plt.xlabel('epoch')\n",
    "plt.legend(['train','test'], loc = 'upper left')\n",
    "plt.show()"
   ]
  },
  {
   "cell_type": "markdown",
   "metadata": {},
   "source": [
    "### Exporting Model"
   ]
  },
  {
   "cell_type": "code",
   "execution_count": 44,
   "metadata": {},
   "outputs": [],
   "source": [
    "model.save(\"group144_pretrained_model\", save_format=\"h5\")"
   ]
  }
 ],
 "metadata": {
  "interpreter": {
   "hash": "4d05bafe0210b8e8985c594e6f1d32a2b9c9051a5486eb18d025d4c6c41ebd0d"
  },
  "kernelspec": {
   "display_name": "Python 3.7.13 ('comp5318')",
   "language": "python",
   "name": "python3"
  },
  "language_info": {
   "codemirror_mode": {
    "name": "ipython",
    "version": 3
   },
   "file_extension": ".py",
   "mimetype": "text/x-python",
   "name": "python",
   "nbconvert_exporter": "python",
   "pygments_lexer": "ipython3",
   "version": "3.7.13"
  },
  "orig_nbformat": 4
 },
 "nbformat": 4,
 "nbformat_minor": 2
}
